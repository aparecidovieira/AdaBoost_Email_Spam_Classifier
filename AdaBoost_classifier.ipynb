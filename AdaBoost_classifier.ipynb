{
 "cells": [
  {
   "cell_type": "code",
   "execution_count": 1,
   "metadata": {
    "collapsed": true
   },
   "outputs": [],
   "source": [
    "import pandas as pd\n",
    "import numpy as np\n",
    "import os\n",
    "import matplotlib.pyplot as plt\n",
    "%matplotlib inline"
   ]
  },
  {
   "cell_type": "code",
   "execution_count": 2,
   "metadata": {
    "collapsed": true
   },
   "outputs": [],
   "source": [
    "from sklearn.naive_bayes import GaussianNB\n",
    "from sklearn.metrics import accuracy_score"
   ]
  },
  {
   "cell_type": "code",
   "execution_count": 3,
   "metadata": {
    "collapsed": true
   },
   "outputs": [],
   "source": [
    "train_dir = \"machine-learning-101-master/chapter5/train-mails\""
   ]
  },
  {
   "cell_type": "code",
   "execution_count": 4,
   "metadata": {
    "collapsed": true
   },
   "outputs": [],
   "source": [
    "test_dir = \"machine-learning-101-master/chapter5/test-mails\"\n"
   ]
  },
  {
   "cell_type": "code",
   "execution_count": 5,
   "metadata": {
    "collapsed": true
   },
   "outputs": [],
   "source": [
    "def make_dictionary(root_dir):\n",
    "    word_dic = []\n",
    "    emails = [os.path.join(root_dir, f) for f in os.listdir(root_dir)]\n",
    "    for mail in emails:\n",
    "        with open(mail) as m:\n",
    "            for line in m:\n",
    "                words = line.split()\n",
    "                word_dic += words\n",
    "    dictionary = Counter(word_dic)\n",
    "    dictionary2 = deepcopy(dictionary)\n",
    "    list_to_remove = dictionary.keys()\n",
    "    \n",
    "    for item in list_to_remove:\n",
    "        if item.isalpha() == False:\n",
    "            del dictionary2[item]\n",
    "        elif len(item) == 1:\n",
    "            del dictionary2[item]\n",
    "            \n",
    "    dictionary_final = dictionary2.most_common(w)\n",
    "    \n",
    "    return dictionary_final\n"
   ]
  },
  {
   "cell_type": "code",
   "execution_count": 6,
   "metadata": {
    "collapsed": true
   },
   "outputs": [],
   "source": [
    "def extract_features(mail_dir):\n",
    "    files = [os.path.join(mail_dir, f) for f in os.listdir(mail_dir)]\n",
    "    features_matrix = np.zeros((len(files), w))\n",
    "    train_labels = np.zeros(len(files))\n",
    "    count = 0\n",
    "    docId = 0\n",
    "   \n",
    "    for file in files:\n",
    "        with open(file) as f:\n",
    "            for i, line in enumerate(f):\n",
    "                if i == 2:\n",
    "                    words = line.split()\n",
    "                    for word in words:\n",
    "                        wordId = 0\n",
    "                        for i, d in enumerate(dictionary):\n",
    "                            #print(i, d)\n",
    "                            if d[0] == word:\n",
    "                                wordId = i\n",
    "                                features_matrix[docId, wordId] = words.count(word)\n",
    "       \n",
    "            train_labels[docId] = 0\n",
    "            filepath = file.split('/')\n",
    "            token = filepath[len(filepath) - 1]\n",
    "            if token.startswith('spmsg'):\n",
    "                train_labels[docId] = 1\n",
    "                count += 1\n",
    "            docId += 1\n",
    "    return features_matrix, train_labels\n",
    "                    \n"
   ]
  },
  {
   "cell_type": "code",
   "execution_count": 20,
   "metadata": {
    "collapsed": true
   },
   "outputs": [],
   "source": [
    "from collections import Counter\n",
    "from copy import deepcopy\n",
    "w = 3000\n",
    "dictionary = make_dictionary(train_dir)\n"
   ]
  },
  {
   "cell_type": "code",
   "execution_count": 100,
   "metadata": {
    "collapsed": true
   },
   "outputs": [],
   "source": [
    "feature_matrix, labels = extract_features(train_dir)\n",
    "test_feature_matrix, test_labels = extract_features(test_dir)"
   ]
  },
  {
   "cell_type": "code",
   "execution_count": 101,
   "metadata": {
    "collapsed": true
   },
   "outputs": [],
   "source": [
    "#feature_matrix = feature_matrix[:len(feature_matrix)//10]\n",
    "#labels = labels[:len(labels)//10]"
   ]
  },
  {
   "cell_type": "code",
   "execution_count": 225,
   "metadata": {
    "collapsed": true
   },
   "outputs": [],
   "source": [
    "# Our model\n",
    "from sklearn.ensemble import AdaBoostClassifier\n",
    "model = AdaBoostClassifier(n_estimators=900, learning_rate=1.5, algorithm='SAMME')"
   ]
  },
  {
   "cell_type": "code",
   "execution_count": 226,
   "metadata": {},
   "outputs": [
    {
     "data": {
      "text/html": [
       "<img src=\"https://www.researchgate.net/profile/Aymeric_Histace/publication/256612015/figure/fig5/AS:297815822618658@1448016233826/Fig-5-Flow-diagram-that-shows-how-the-Cascade-Adaboost-is-performed.png\"/>"
      ],
      "text/plain": [
       "<IPython.core.display.Image object>"
      ]
     },
     "execution_count": 226,
     "metadata": {},
     "output_type": "execute_result"
    }
   ],
   "source": [
    "\n",
    "from IPython.display import Image\n",
    "Image(url='https://www.researchgate.net/profile/Aymeric_Histace/publication/256612015/figure/fig5/AS:297815822618658@1448016233826/Fig-5-Flow-diagram-that-shows-how-the-Cascade-Adaboost-is-performed.png')"
   ]
  },
  {
   "cell_type": "code",
   "execution_count": 227,
   "metadata": {},
   "outputs": [
    {
     "name": "stdout",
     "output_type": "stream",
     "text": [
      "Training model\n"
     ]
    },
    {
     "data": {
      "text/plain": [
       "AdaBoostClassifier(algorithm='SAMME', base_estimator=None, learning_rate=1.5,\n",
       "          n_estimators=900, random_state=None)"
      ]
     },
     "execution_count": 227,
     "metadata": {},
     "output_type": "execute_result"
    }
   ],
   "source": [
    "# training\n",
    "print('Training model')\n",
    "model.fit(feature_matrix, labels)"
   ]
  },
  {
   "cell_type": "code",
   "execution_count": 228,
   "metadata": {},
   "outputs": [
    {
     "data": {
      "text/html": [
       "<img src=\"https://3.bp.blogspot.com/-_mwSHqrMBSM/WKBlXkXNSvI/AAAAAAAAHuM/75zj6Ep9ueo4ieKn-7b2szh0K2bsINIZwCLcB/s640/boosting.png\"/>"
      ],
      "text/plain": [
       "<IPython.core.display.Image object>"
      ]
     },
     "execution_count": 228,
     "metadata": {},
     "output_type": "execute_result"
    }
   ],
   "source": [
    "Image(url='https://3.bp.blogspot.com/-_mwSHqrMBSM/WKBlXkXNSvI/AAAAAAAAHuM/75zj6Ep9ueo4ieKn-7b2szh0K2bsINIZwCLcB/s640/boosting.png')"
   ]
  },
  {
   "cell_type": "code",
   "execution_count": 229,
   "metadata": {},
   "outputs": [],
   "source": [
    "# predict\n",
    "predicted_labels = model.predict(test_feature_matrix)"
   ]
  },
  {
   "cell_type": "code",
   "execution_count": 230,
   "metadata": {
    "collapsed": true
   },
   "outputs": [],
   "source": [
    "from sklearn.metrics import accuracy_score\n",
    "predicted = accuracy_score(test_labels, predicted_labels)"
   ]
  },
  {
   "cell_type": "code",
   "execution_count": 231,
   "metadata": {},
   "outputs": [
    {
     "name": "stdout",
     "output_type": "stream",
     "text": [
      "Classifying with AdaBoost, accuracy: 95.000000%\n"
     ]
    }
   ],
   "source": [
    "print(\"Classifying with AdaBoost, accuracy: %f\"%(100 * accuracy_score(test_labels, predicted_labels))+'%')"
   ]
  },
  {
   "cell_type": "code",
   "execution_count": null,
   "metadata": {
    "collapsed": true
   },
   "outputs": [],
   "source": []
  }
 ],
 "metadata": {
  "kernelspec": {
   "display_name": "Python 3",
   "language": "python",
   "name": "python3"
  },
  "language_info": {
   "codemirror_mode": {
    "name": "ipython",
    "version": 3
   },
   "file_extension": ".py",
   "mimetype": "text/x-python",
   "name": "python",
   "nbconvert_exporter": "python",
   "pygments_lexer": "ipython3",
   "version": "3.6.3"
  }
 },
 "nbformat": 4,
 "nbformat_minor": 2
}
